{
 "cells": [
  {
   "cell_type": "markdown",
   "metadata": {
    "papermill": {
     "duration": 0.01212,
     "end_time": "2021-03-05T19:17:40.940102",
     "exception": false,
     "start_time": "2021-03-05T19:17:40.927982",
     "status": "completed"
    },
    "tags": []
   },
   "source": [
    "## Introduction\n",
    "Greetings from the Kaggle bot! This is an automatically-generated kernel with starter code demonstrating how to read in the data and begin exploring. If you're inspired to dig deeper, click the blue \"Fork Notebook\" button at the top of this kernel to begin editing."
   ]
  },
  {
   "cell_type": "markdown",
   "metadata": {
    "papermill": {
     "duration": 0.011623,
     "end_time": "2021-03-05T19:17:40.962951",
     "exception": false,
     "start_time": "2021-03-05T19:17:40.951328",
     "status": "completed"
    },
    "tags": []
   },
   "source": [
    "## Exploratory Analysis\n",
    "To begin this exploratory analysis, first import libraries and define functions for plotting the data using `matplotlib`. Depending on the data, not all plots will be made. (Hey, I'm just a simple kerneling bot, not a Kaggle Competitions Grandmaster!)"
   ]
  },
  {
   "cell_type": "code",
   "execution_count": 1,
   "metadata": {
    "_kg_hide-input": false,
    "collapsed": false,
    "execution": {
     "iopub.execute_input": "2021-03-05T19:17:40.990013Z",
     "iopub.status.busy": "2021-03-05T19:17:40.988948Z",
     "iopub.status.idle": "2021-03-05T19:17:42.062508Z",
     "shell.execute_reply": "2021-03-05T19:17:42.061579Z"
    },
    "papermill": {
     "duration": 1.088718,
     "end_time": "2021-03-05T19:17:42.062730",
     "exception": false,
     "start_time": "2021-03-05T19:17:40.974012",
     "status": "completed"
    },
    "tags": []
   },
   "outputs": [],
   "source": [
    "from mpl_toolkits.mplot3d import Axes3D\n",
    "from sklearn.preprocessing import StandardScaler\n",
    "import matplotlib.pyplot as plt # plotting\n",
    "import numpy as np # linear algebra\n",
    "import os # accessing directory structure\n",
    "import pandas as pd # data processing, CSV file I/O (e.g. pd.read_csv)\n"
   ]
  },
  {
   "cell_type": "markdown",
   "metadata": {
    "papermill": {
     "duration": 0.009566,
     "end_time": "2021-03-05T19:17:42.082724",
     "exception": false,
     "start_time": "2021-03-05T19:17:42.073158",
     "status": "completed"
    },
    "tags": []
   },
   "source": [
    "There is 1 csv file in the current version of the dataset:\n"
   ]
  },
  {
   "cell_type": "code",
   "execution_count": 2,
   "metadata": {
    "_kg_hide-input": false,
    "collapsed": false,
    "execution": {
     "iopub.execute_input": "2021-03-05T19:17:42.108076Z",
     "iopub.status.busy": "2021-03-05T19:17:42.107368Z",
     "iopub.status.idle": "2021-03-05T19:17:42.122434Z",
     "shell.execute_reply": "2021-03-05T19:17:42.121816Z"
    },
    "papermill": {
     "duration": 0.029978,
     "end_time": "2021-03-05T19:17:42.122606",
     "exception": false,
     "start_time": "2021-03-05T19:17:42.092628",
     "status": "completed"
    },
    "tags": []
   },
   "outputs": [
    {
     "name": "stdout",
     "output_type": "stream",
     "text": [
      "/kaggle/input/text_summarization.csv\n"
     ]
    }
   ],
   "source": [
    "for dirname, _, filenames in os.walk('/kaggle/input'):\n",
    "    for filename in filenames:\n",
    "        print(os.path.join(dirname, filename))\n"
   ]
  },
  {
   "cell_type": "markdown",
   "metadata": {
    "papermill": {
     "duration": 0.010234,
     "end_time": "2021-03-05T19:17:42.143841",
     "exception": false,
     "start_time": "2021-03-05T19:17:42.133607",
     "status": "completed"
    },
    "tags": []
   },
   "source": [
    "The next hidden code cells define functions for plotting data. Click on the \"Code\" button in the published kernel to reveal the hidden code."
   ]
  },
  {
   "cell_type": "code",
   "execution_count": 3,
   "metadata": {
    "_kg_hide-input": true,
    "collapsed": true,
    "execution": {
     "iopub.execute_input": "2021-03-05T19:17:42.176343Z",
     "iopub.status.busy": "2021-03-05T19:17:42.175596Z",
     "iopub.status.idle": "2021-03-05T19:17:42.178785Z",
     "shell.execute_reply": "2021-03-05T19:17:42.178245Z"
    },
    "papermill": {
     "duration": 0.024602,
     "end_time": "2021-03-05T19:17:42.178945",
     "exception": false,
     "start_time": "2021-03-05T19:17:42.154343",
     "status": "completed"
    },
    "tags": []
   },
   "outputs": [],
   "source": [
    "# Distribution graphs (histogram/bar graph) of column data\n",
    "def plotPerColumnDistribution(df, nGraphShown, nGraphPerRow):\n",
    "    nunique = df.nunique()\n",
    "    df = df[[col for col in df if nunique[col] > 1 and nunique[col] < 50]] # For displaying purposes, pick columns that have between 1 and 50 unique values\n",
    "    nRow, nCol = df.shape\n",
    "    columnNames = list(df)\n",
    "    nGraphRow = (nCol + nGraphPerRow - 1) / nGraphPerRow\n",
    "    plt.figure(num = None, figsize = (6 * nGraphPerRow, 8 * nGraphRow), dpi = 80, facecolor = 'w', edgecolor = 'k')\n",
    "    for i in range(min(nCol, nGraphShown)):\n",
    "        plt.subplot(nGraphRow, nGraphPerRow, i + 1)\n",
    "        columnDf = df.iloc[:, i]\n",
    "        if (not np.issubdtype(type(columnDf.iloc[0]), np.number)):\n",
    "            valueCounts = columnDf.value_counts()\n",
    "            valueCounts.plot.bar()\n",
    "        else:\n",
    "            columnDf.hist()\n",
    "        plt.ylabel('counts')\n",
    "        plt.xticks(rotation = 90)\n",
    "        plt.title(f'{columnNames[i]} (column {i})')\n",
    "    plt.tight_layout(pad = 1.0, w_pad = 1.0, h_pad = 1.0)\n",
    "    plt.show()\n"
   ]
  },
  {
   "cell_type": "code",
   "execution_count": 4,
   "metadata": {
    "_kg_hide-input": true,
    "collapsed": true,
    "execution": {
     "iopub.execute_input": "2021-03-05T19:17:42.210325Z",
     "iopub.status.busy": "2021-03-05T19:17:42.209568Z",
     "iopub.status.idle": "2021-03-05T19:17:42.212884Z",
     "shell.execute_reply": "2021-03-05T19:17:42.212329Z"
    },
    "papermill": {
     "duration": 0.023236,
     "end_time": "2021-03-05T19:17:42.213046",
     "exception": false,
     "start_time": "2021-03-05T19:17:42.189810",
     "status": "completed"
    },
    "tags": []
   },
   "outputs": [],
   "source": [
    "# Correlation matrix\n",
    "def plotCorrelationMatrix(df, graphWidth):\n",
    "    filename = df.dataframeName\n",
    "    df = df.dropna('columns') # drop columns with NaN\n",
    "    df = df[[col for col in df if df[col].nunique() > 1]] # keep columns where there are more than 1 unique values\n",
    "    if df.shape[1] < 2:\n",
    "        print(f'No correlation plots shown: The number of non-NaN or constant columns ({df.shape[1]}) is less than 2')\n",
    "        return\n",
    "    corr = df.corr()\n",
    "    plt.figure(num=None, figsize=(graphWidth, graphWidth), dpi=80, facecolor='w', edgecolor='k')\n",
    "    corrMat = plt.matshow(corr, fignum = 1)\n",
    "    plt.xticks(range(len(corr.columns)), corr.columns, rotation=90)\n",
    "    plt.yticks(range(len(corr.columns)), corr.columns)\n",
    "    plt.gca().xaxis.tick_bottom()\n",
    "    plt.colorbar(corrMat)\n",
    "    plt.title(f'Correlation Matrix for {filename}', fontsize=15)\n",
    "    plt.show()\n"
   ]
  },
  {
   "cell_type": "code",
   "execution_count": 5,
   "metadata": {
    "_kg_hide-input": true,
    "collapsed": true,
    "execution": {
     "iopub.execute_input": "2021-03-05T19:17:42.245154Z",
     "iopub.status.busy": "2021-03-05T19:17:42.244119Z",
     "iopub.status.idle": "2021-03-05T19:17:42.247736Z",
     "shell.execute_reply": "2021-03-05T19:17:42.247212Z"
    },
    "papermill": {
     "duration": 0.023881,
     "end_time": "2021-03-05T19:17:42.247882",
     "exception": false,
     "start_time": "2021-03-05T19:17:42.224001",
     "status": "completed"
    },
    "tags": []
   },
   "outputs": [],
   "source": [
    "# Scatter and density plots\n",
    "def plotScatterMatrix(df, plotSize, textSize):\n",
    "    df = df.select_dtypes(include =[np.number]) # keep only numerical columns\n",
    "    # Remove rows and columns that would lead to df being singular\n",
    "    df = df.dropna('columns')\n",
    "    df = df[[col for col in df if df[col].nunique() > 1]] # keep columns where there are more than 1 unique values\n",
    "    columnNames = list(df)\n",
    "    if len(columnNames) > 10: # reduce the number of columns for matrix inversion of kernel density plots\n",
    "        columnNames = columnNames[:10]\n",
    "    df = df[columnNames]\n",
    "    ax = pd.plotting.scatter_matrix(df, alpha=0.75, figsize=[plotSize, plotSize], diagonal='kde')\n",
    "    corrs = df.corr().values\n",
    "    for i, j in zip(*plt.np.triu_indices_from(ax, k = 1)):\n",
    "        ax[i, j].annotate('Corr. coef = %.3f' % corrs[i, j], (0.8, 0.2), xycoords='axes fraction', ha='center', va='center', size=textSize)\n",
    "    plt.suptitle('Scatter and Density Plot')\n",
    "    plt.show()\n"
   ]
  },
  {
   "cell_type": "markdown",
   "metadata": {
    "papermill": {
     "duration": 0.010774,
     "end_time": "2021-03-05T19:17:42.269788",
     "exception": false,
     "start_time": "2021-03-05T19:17:42.259014",
     "status": "completed"
    },
    "tags": []
   },
   "source": [
    "Now you're ready to read in the data and use the plotting functions to visualize the data."
   ]
  },
  {
   "cell_type": "markdown",
   "metadata": {
    "papermill": {
     "duration": 0.012497,
     "end_time": "2021-03-05T19:17:42.293283",
     "exception": false,
     "start_time": "2021-03-05T19:17:42.280786",
     "status": "completed"
    },
    "tags": []
   },
   "source": [
    "### Let's check 1st file: /kaggle/input/text_summarization.csv"
   ]
  },
  {
   "cell_type": "code",
   "execution_count": 6,
   "metadata": {
    "_kg_hide-input": false,
    "collapsed": false,
    "execution": {
     "iopub.execute_input": "2021-03-05T19:17:42.324313Z",
     "iopub.status.busy": "2021-03-05T19:17:42.323589Z",
     "iopub.status.idle": "2021-03-05T19:17:42.493693Z",
     "shell.execute_reply": "2021-03-05T19:17:42.492959Z"
    },
    "papermill": {
     "duration": 0.187267,
     "end_time": "2021-03-05T19:17:42.493847",
     "exception": false,
     "start_time": "2021-03-05T19:17:42.306580",
     "status": "completed"
    },
    "tags": []
   },
   "outputs": [
    {
     "name": "stdout",
     "output_type": "stream",
     "text": [
      "There are 1000 rows and 3 columns\n"
     ]
    }
   ],
   "source": [
    "nRowsRead = 1000 # specify 'None' if want to read whole file\n",
    "# text_summarization.csv may have more rows in reality, but we are only loading/previewing the first 1000 rows\n",
    "df1 = pd.read_csv('/kaggle/input/text_summarization.csv', delimiter=',', nrows = nRowsRead)\n",
    "df1.dataframeName = 'text_summarization.csv'\n",
    "nRow, nCol = df1.shape\n",
    "print(f'There are {nRow} rows and {nCol} columns')"
   ]
  },
  {
   "cell_type": "markdown",
   "metadata": {
    "papermill": {
     "duration": 0.010988,
     "end_time": "2021-03-05T19:17:42.517527",
     "exception": false,
     "start_time": "2021-03-05T19:17:42.506539",
     "status": "completed"
    },
    "tags": []
   },
   "source": [
    "Let's take a quick look at what the data looks like:"
   ]
  },
  {
   "cell_type": "code",
   "execution_count": 7,
   "metadata": {
    "_kg_hide-input": false,
    "collapsed": false,
    "execution": {
     "iopub.execute_input": "2021-03-05T19:17:42.548263Z",
     "iopub.status.busy": "2021-03-05T19:17:42.547495Z",
     "iopub.status.idle": "2021-03-05T19:17:42.568869Z",
     "shell.execute_reply": "2021-03-05T19:17:42.568226Z"
    },
    "papermill": {
     "duration": 0.040162,
     "end_time": "2021-03-05T19:17:42.569039",
     "exception": false,
     "start_time": "2021-03-05T19:17:42.528877",
     "status": "completed"
    },
    "tags": []
   },
   "outputs": [
    {
     "data": {
      "text/html": [
       "<div>\n",
       "<style scoped>\n",
       "    .dataframe tbody tr th:only-of-type {\n",
       "        vertical-align: middle;\n",
       "    }\n",
       "\n",
       "    .dataframe tbody tr th {\n",
       "        vertical-align: top;\n",
       "    }\n",
       "\n",
       "    .dataframe thead th {\n",
       "        text-align: right;\n",
       "    }\n",
       "</style>\n",
       "<table border=\"1\" class=\"dataframe\">\n",
       "  <thead>\n",
       "    <tr style=\"text-align: right;\">\n",
       "      <th></th>\n",
       "      <th>category</th>\n",
       "      <th>summary</th>\n",
       "      <th>text</th>\n",
       "    </tr>\n",
       "  </thead>\n",
       "  <tbody>\n",
       "    <tr>\n",
       "      <th>0</th>\n",
       "      <td>technology</td>\n",
       "      <td>অ্যাপসে মিলবে ঢাকাসহ তিন জেলা আদালতের তথ্য</td>\n",
       "      <td>ঢাকা মহানগর ও ঢাকা জেলা আদালত, কিশোরগঞ্জ ও রাঙ...</td>\n",
       "    </tr>\n",
       "    <tr>\n",
       "      <th>1</th>\n",
       "      <td>bangladesh</td>\n",
       "      <td>বিজ্ঞান ও প্রকৌশলে মার্কিন সর্বোচ্চ সম্মাননা...</td>\n",
       "      <td>যুক্তরাষ্ট্রে বিজ্ঞান ও প্রকৌশলে পেশা শুরুর প...</td>\n",
       "    </tr>\n",
       "    <tr>\n",
       "      <th>2</th>\n",
       "      <td>bangladesh</td>\n",
       "      <td>বিকল্প শিশুখাদ্য গ্রহণে শিশুর মৃত্যু হলে শাস্ত...</td>\n",
       "      <td>বিকল্প শিশুখাদ্য ও বাণিজ্যিকভাবে উত্পাদিত শিশু...</td>\n",
       "    </tr>\n",
       "    <tr>\n",
       "      <th>3</th>\n",
       "      <td>bangladesh</td>\n",
       "      <td>ট্রেনে কাটা পড়ে সাবেক সিভিল সার্জনের মৃত্যু</td>\n",
       "      <td>বগুড়ার আদমদীঘির সান্তাহারে গতকাল শনিবার ট্রেন...</td>\n",
       "    </tr>\n",
       "    <tr>\n",
       "      <th>4</th>\n",
       "      <td>bangladesh</td>\n",
       "      <td>যাত্রাবাড়ীতে চুলা জ্বালাতে গিয়ে দুই কর্মচারী ...</td>\n",
       "      <td>যাত্রাবাড়ীর একটি রেস্তোরাঁয় গতকাল বুধবার ভোর...</td>\n",
       "    </tr>\n",
       "  </tbody>\n",
       "</table>\n",
       "</div>"
      ],
      "text/plain": [
       "     category                                            summary  \\\n",
       "0  technology         অ্যাপসে মিলবে ঢাকাসহ তিন জেলা আদালতের তথ্য   \n",
       "1  bangladesh  বিজ্ঞান ও প্রকৌশলে মার্কিন সর্বোচ্চ সম্মাননা...   \n",
       "2  bangladesh  বিকল্প শিশুখাদ্য গ্রহণে শিশুর মৃত্যু হলে শাস্ত...   \n",
       "3  bangladesh       ট্রেনে কাটা পড়ে সাবেক সিভিল সার্জনের মৃত্যু   \n",
       "4  bangladesh  যাত্রাবাড়ীতে চুলা জ্বালাতে গিয়ে দুই কর্মচারী ...   \n",
       "\n",
       "                                                text  \n",
       "0  ঢাকা মহানগর ও ঢাকা জেলা আদালত, কিশোরগঞ্জ ও রাঙ...  \n",
       "1  যুক্তরাষ্ট্রে বিজ্ঞান ও প্রকৌশলে পেশা শুরুর প...  \n",
       "2  বিকল্প শিশুখাদ্য ও বাণিজ্যিকভাবে উত্পাদিত শিশু...  \n",
       "3  বগুড়ার আদমদীঘির সান্তাহারে গতকাল শনিবার ট্রেন...  \n",
       "4  যাত্রাবাড়ীর একটি রেস্তোরাঁয় গতকাল বুধবার ভোর...  "
      ]
     },
     "execution_count": 7,
     "metadata": {},
     "output_type": "execute_result"
    }
   ],
   "source": [
    "df1.head(5)"
   ]
  },
  {
   "cell_type": "markdown",
   "metadata": {
    "papermill": {
     "duration": 0.011642,
     "end_time": "2021-03-05T19:17:42.593021",
     "exception": false,
     "start_time": "2021-03-05T19:17:42.581379",
     "status": "completed"
    },
    "tags": []
   },
   "source": [
    "Distribution graphs (histogram/bar graph) of sampled columns:"
   ]
  },
  {
   "cell_type": "code",
   "execution_count": 8,
   "metadata": {
    "_kg_hide-input": false,
    "collapsed": false,
    "execution": {
     "iopub.execute_input": "2021-03-05T19:17:42.622943Z",
     "iopub.status.busy": "2021-03-05T19:17:42.622219Z",
     "iopub.status.idle": "2021-03-05T19:17:43.009367Z",
     "shell.execute_reply": "2021-03-05T19:17:43.008260Z"
    },
    "papermill": {
     "duration": 0.404188,
     "end_time": "2021-03-05T19:17:43.009540",
     "exception": false,
     "start_time": "2021-03-05T19:17:42.605352",
     "status": "completed"
    },
    "tags": []
   },
   "outputs": [
    {
     "name": "stderr",
     "output_type": "stream",
     "text": [
      "/opt/conda/lib/python3.7/site-packages/ipykernel_launcher.py:10: MatplotlibDeprecationWarning: Passing non-integers as three-element position specification is deprecated since 3.3 and will be removed two minor releases later.\n",
      "  # Remove the CWD from sys.path while we load stuff.\n"
     ]
    },
    {
     "data": {
      "image/png": "[encoded data removed]",
      "text/plain": [
       "<Figure size 2400x640 with 1 Axes>"
      ]
     },
     "metadata": {},
     "output_type": "display_data"
    }
   ],
   "source": [
    "plotPerColumnDistribution(df1, 10, 5)"
   ]
  },
  {
   "cell_type": "markdown",
   "metadata": {
    "papermill": {
     "duration": 0.013702,
     "end_time": "2021-03-05T19:17:43.037276",
     "exception": false,
     "start_time": "2021-03-05T19:17:43.023574",
     "status": "completed"
    },
    "tags": []
   },
   "source": [
    "## Conclusion\n",
    "This concludes your starter analysis! To go forward from here, click the blue \"Fork Notebook\" button at the top of this kernel. This will create a copy of the code and environment for you to edit. Delete, modify, and add code as you please. Happy Kaggling!"
   ]
  }
 ],
 "metadata": {
  "kernelspec": {
   "display_name": "Python 3",
   "language": "python",
   "name": "python3"
  },
  "language_info": {
   "codemirror_mode": {
    "name": "ipython",
    "version": 3
   },
   "file_extension": ".py",
   "mimetype": "text/x-python",
   "name": "python",
   "nbconvert_exporter": "python",
   "pygments_lexer": "ipython3",
   "version": "3.7.9"
  },
  "papermill": {
   "default_parameters": {},
   "duration": 9.193905,
   "end_time": "2021-03-05T19:17:43.762197",
   "environment_variables": {},
   "exception": null,
   "input_path": "__notebook__.ipynb",
   "output_path": "__notebook__.ipynb",
   "parameters": {},
   "start_time": "2021-03-05T19:17:34.568292",
   "version": "2.2.2"
  }
 },
 "nbformat": 4,
 "nbformat_minor": 4
}
